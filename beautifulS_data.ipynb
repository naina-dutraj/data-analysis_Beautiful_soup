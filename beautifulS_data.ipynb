{
  "nbformat": 4,
  "nbformat_minor": 0,
  "metadata": {
    "colab": {
      "provenance": [],
      "authorship_tag": "ABX9TyMdtNDbeVWmbKWtZjTP1uaU",
      "include_colab_link": true
    },
    "kernelspec": {
      "name": "python3",
      "display_name": "Python 3"
    },
    "language_info": {
      "name": "python"
    }
  },
  "cells": [
    {
      "cell_type": "markdown",
      "metadata": {
        "id": "view-in-github",
        "colab_type": "text"
      },
      "source": [
        "<a href=\"https://colab.research.google.com/github/naina-dutraj/data-analysis_Beautiful_soup/blob/main/beautifulS_data.ipynb\" target=\"_parent\"><img src=\"https://colab.research.google.com/assets/colab-badge.svg\" alt=\"Open In Colab\"/></a>"
      ]
    },
    {
      "cell_type": "code",
      "execution_count": 1,
      "metadata": {
        "id": "pJQ-nsR7xGLG"
      },
      "outputs": [],
      "source": [
        "from bs4 import BeautifulSoup\n"
      ]
    },
    {
      "cell_type": "code",
      "source": [
        "import requests\n",
        "import pandas as pd\n"
      ],
      "metadata": {
        "id": "97qc1Iimy322"
      },
      "execution_count": 2,
      "outputs": []
    },
    {
      "cell_type": "code",
      "source": [
        "def df_extractor(page_num):\n",
        "  response = requests.get(f'https://www.payscale.com/college-salary-report/majors-that-pay-you-back/bachelors/page/{num}')\n",
        "  web_page = response.text\n",
        "  soup = BeautifulSoup(web_page,'html.parser')\n",
        "  table = soup.find_all('table')[0]\n",
        "  dataframe = pd.read_html(str(table))[0]\n",
        "  return dataframe\n",
        "\n"
      ],
      "metadata": {
        "id": "8xS7NUugzn6n"
      },
      "execution_count": 3,
      "outputs": []
    },
    {
      "cell_type": "code",
      "source": [
        "def clean_df(df):\n",
        "  df.rename(columns={df.columns[3] : 'Early Career Pay', df.columns[4] :'Mid-Career Pay', df.columns[5] : '% High Meaning'},inplace = True)\n",
        "  for index in range(len(df.columns)):\n",
        "    name = df.columns[index]\n",
        "    df[name] = df[name].str.replace(f'{name}:','')\n",
        "    try:\n",
        "      df[name] = df[name].str.replace('$','')\n",
        "      df[name] = df[name].str.replace('%','')\n",
        "      df[name] = df[name].str.replace(',','_')\n",
        "    except:\n",
        "      continue\n",
        "  return df\n"
      ],
      "metadata": {
        "id": "_0en8jRvqAqu"
      },
      "execution_count": 4,
      "outputs": []
    },
    {
      "cell_type": "code",
      "source": [
        "response = requests.get('https://www.payscale.com/college-salary-report/majors-that-pay-you-back/bachelors')\n",
        "web_page = response.text\n",
        "soup = BeautifulSoup(web_page,'html.parser')\n",
        "table = soup.find_all('table')[0]\n",
        "df1 = pd.read_html(str(table))[0]\n",
        "df1 = clean_df(df1)\n",
        ""
      ],
      "metadata": {
        "colab": {
          "base_uri": "https://localhost:8080/"
        },
        "id": "8Nw-wpRndZev",
        "outputId": "6aa614e5-06f8-4447-91d9-f6366af662d4"
      },
      "execution_count": 5,
      "outputs": [
        {
          "output_type": "stream",
          "name": "stderr",
          "text": [
            "<ipython-input-4-258bcb088b79>:7: FutureWarning: The default value of regex will change from True to False in a future version. In addition, single character regular expressions will *not* be treated as literal strings when regex=True.\n",
            "  df[name] = df[name].str.replace('$','')\n"
          ]
        }
      ]
    },
    {
      "cell_type": "code",
      "source": [
        "for num in range(2,35):\n",
        "  df2 = clean_df(df_extractor(num))\n",
        "  df = pd.concat([df1,df2])\n",
        "  df1=df\n",
        "\n",
        "combined_df = df1"
      ],
      "metadata": {
        "colab": {
          "base_uri": "https://localhost:8080/"
        },
        "id": "V6aeew-CsDGL",
        "outputId": "aab52a7b-1bb2-4473-edd3-7d381ed91ddb"
      },
      "execution_count": 6,
      "outputs": [
        {
          "output_type": "stream",
          "name": "stderr",
          "text": [
            "<ipython-input-4-258bcb088b79>:7: FutureWarning: The default value of regex will change from True to False in a future version. In addition, single character regular expressions will *not* be treated as literal strings when regex=True.\n",
            "  df[name] = df[name].str.replace('$','')\n",
            "<ipython-input-4-258bcb088b79>:7: FutureWarning: The default value of regex will change from True to False in a future version. In addition, single character regular expressions will *not* be treated as literal strings when regex=True.\n",
            "  df[name] = df[name].str.replace('$','')\n",
            "<ipython-input-4-258bcb088b79>:7: FutureWarning: The default value of regex will change from True to False in a future version. In addition, single character regular expressions will *not* be treated as literal strings when regex=True.\n",
            "  df[name] = df[name].str.replace('$','')\n",
            "<ipython-input-4-258bcb088b79>:7: FutureWarning: The default value of regex will change from True to False in a future version. In addition, single character regular expressions will *not* be treated as literal strings when regex=True.\n",
            "  df[name] = df[name].str.replace('$','')\n",
            "<ipython-input-4-258bcb088b79>:7: FutureWarning: The default value of regex will change from True to False in a future version. In addition, single character regular expressions will *not* be treated as literal strings when regex=True.\n",
            "  df[name] = df[name].str.replace('$','')\n",
            "<ipython-input-4-258bcb088b79>:7: FutureWarning: The default value of regex will change from True to False in a future version. In addition, single character regular expressions will *not* be treated as literal strings when regex=True.\n",
            "  df[name] = df[name].str.replace('$','')\n",
            "<ipython-input-4-258bcb088b79>:7: FutureWarning: The default value of regex will change from True to False in a future version. In addition, single character regular expressions will *not* be treated as literal strings when regex=True.\n",
            "  df[name] = df[name].str.replace('$','')\n",
            "<ipython-input-4-258bcb088b79>:7: FutureWarning: The default value of regex will change from True to False in a future version. In addition, single character regular expressions will *not* be treated as literal strings when regex=True.\n",
            "  df[name] = df[name].str.replace('$','')\n",
            "<ipython-input-4-258bcb088b79>:7: FutureWarning: The default value of regex will change from True to False in a future version. In addition, single character regular expressions will *not* be treated as literal strings when regex=True.\n",
            "  df[name] = df[name].str.replace('$','')\n",
            "<ipython-input-4-258bcb088b79>:7: FutureWarning: The default value of regex will change from True to False in a future version. In addition, single character regular expressions will *not* be treated as literal strings when regex=True.\n",
            "  df[name] = df[name].str.replace('$','')\n",
            "<ipython-input-4-258bcb088b79>:7: FutureWarning: The default value of regex will change from True to False in a future version. In addition, single character regular expressions will *not* be treated as literal strings when regex=True.\n",
            "  df[name] = df[name].str.replace('$','')\n",
            "<ipython-input-4-258bcb088b79>:7: FutureWarning: The default value of regex will change from True to False in a future version. In addition, single character regular expressions will *not* be treated as literal strings when regex=True.\n",
            "  df[name] = df[name].str.replace('$','')\n",
            "<ipython-input-4-258bcb088b79>:7: FutureWarning: The default value of regex will change from True to False in a future version. In addition, single character regular expressions will *not* be treated as literal strings when regex=True.\n",
            "  df[name] = df[name].str.replace('$','')\n",
            "<ipython-input-4-258bcb088b79>:7: FutureWarning: The default value of regex will change from True to False in a future version. In addition, single character regular expressions will *not* be treated as literal strings when regex=True.\n",
            "  df[name] = df[name].str.replace('$','')\n",
            "<ipython-input-4-258bcb088b79>:7: FutureWarning: The default value of regex will change from True to False in a future version. In addition, single character regular expressions will *not* be treated as literal strings when regex=True.\n",
            "  df[name] = df[name].str.replace('$','')\n",
            "<ipython-input-4-258bcb088b79>:7: FutureWarning: The default value of regex will change from True to False in a future version. In addition, single character regular expressions will *not* be treated as literal strings when regex=True.\n",
            "  df[name] = df[name].str.replace('$','')\n",
            "<ipython-input-4-258bcb088b79>:7: FutureWarning: The default value of regex will change from True to False in a future version. In addition, single character regular expressions will *not* be treated as literal strings when regex=True.\n",
            "  df[name] = df[name].str.replace('$','')\n",
            "<ipython-input-4-258bcb088b79>:7: FutureWarning: The default value of regex will change from True to False in a future version. In addition, single character regular expressions will *not* be treated as literal strings when regex=True.\n",
            "  df[name] = df[name].str.replace('$','')\n",
            "<ipython-input-4-258bcb088b79>:7: FutureWarning: The default value of regex will change from True to False in a future version. In addition, single character regular expressions will *not* be treated as literal strings when regex=True.\n",
            "  df[name] = df[name].str.replace('$','')\n",
            "<ipython-input-4-258bcb088b79>:7: FutureWarning: The default value of regex will change from True to False in a future version. In addition, single character regular expressions will *not* be treated as literal strings when regex=True.\n",
            "  df[name] = df[name].str.replace('$','')\n",
            "<ipython-input-4-258bcb088b79>:7: FutureWarning: The default value of regex will change from True to False in a future version. In addition, single character regular expressions will *not* be treated as literal strings when regex=True.\n",
            "  df[name] = df[name].str.replace('$','')\n",
            "<ipython-input-4-258bcb088b79>:7: FutureWarning: The default value of regex will change from True to False in a future version. In addition, single character regular expressions will *not* be treated as literal strings when regex=True.\n",
            "  df[name] = df[name].str.replace('$','')\n",
            "<ipython-input-4-258bcb088b79>:7: FutureWarning: The default value of regex will change from True to False in a future version. In addition, single character regular expressions will *not* be treated as literal strings when regex=True.\n",
            "  df[name] = df[name].str.replace('$','')\n",
            "<ipython-input-4-258bcb088b79>:7: FutureWarning: The default value of regex will change from True to False in a future version. In addition, single character regular expressions will *not* be treated as literal strings when regex=True.\n",
            "  df[name] = df[name].str.replace('$','')\n",
            "<ipython-input-4-258bcb088b79>:7: FutureWarning: The default value of regex will change from True to False in a future version. In addition, single character regular expressions will *not* be treated as literal strings when regex=True.\n",
            "  df[name] = df[name].str.replace('$','')\n",
            "<ipython-input-4-258bcb088b79>:7: FutureWarning: The default value of regex will change from True to False in a future version. In addition, single character regular expressions will *not* be treated as literal strings when regex=True.\n",
            "  df[name] = df[name].str.replace('$','')\n",
            "<ipython-input-4-258bcb088b79>:7: FutureWarning: The default value of regex will change from True to False in a future version. In addition, single character regular expressions will *not* be treated as literal strings when regex=True.\n",
            "  df[name] = df[name].str.replace('$','')\n",
            "<ipython-input-4-258bcb088b79>:7: FutureWarning: The default value of regex will change from True to False in a future version. In addition, single character regular expressions will *not* be treated as literal strings when regex=True.\n",
            "  df[name] = df[name].str.replace('$','')\n",
            "<ipython-input-4-258bcb088b79>:7: FutureWarning: The default value of regex will change from True to False in a future version. In addition, single character regular expressions will *not* be treated as literal strings when regex=True.\n",
            "  df[name] = df[name].str.replace('$','')\n",
            "<ipython-input-4-258bcb088b79>:7: FutureWarning: The default value of regex will change from True to False in a future version. In addition, single character regular expressions will *not* be treated as literal strings when regex=True.\n",
            "  df[name] = df[name].str.replace('$','')\n",
            "<ipython-input-4-258bcb088b79>:7: FutureWarning: The default value of regex will change from True to False in a future version. In addition, single character regular expressions will *not* be treated as literal strings when regex=True.\n",
            "  df[name] = df[name].str.replace('$','')\n",
            "<ipython-input-4-258bcb088b79>:7: FutureWarning: The default value of regex will change from True to False in a future version. In addition, single character regular expressions will *not* be treated as literal strings when regex=True.\n",
            "  df[name] = df[name].str.replace('$','')\n",
            "<ipython-input-4-258bcb088b79>:7: FutureWarning: The default value of regex will change from True to False in a future version. In addition, single character regular expressions will *not* be treated as literal strings when regex=True.\n",
            "  df[name] = df[name].str.replace('$','')\n"
          ]
        }
      ]
    },
    {
      "cell_type": "code",
      "source": [
        "combined_df.shape"
      ],
      "metadata": {
        "colab": {
          "base_uri": "https://localhost:8080/"
        },
        "id": "YE7nbqC80AT1",
        "outputId": "99802582-1039-4d39-f238-99d15d934fbe"
      },
      "execution_count": 7,
      "outputs": [
        {
          "output_type": "execute_result",
          "data": {
            "text/plain": [
              "(827, 6)"
            ]
          },
          "metadata": {},
          "execution_count": 7
        }
      ]
    },
    {
      "cell_type": "code",
      "source": [
        "combined_df = combined_df.set_index(pd.Index(range(len(combined_df))))\n",
        "combined_df"
      ],
      "metadata": {
        "colab": {
          "base_uri": "https://localhost:8080/",
          "height": 424
        },
        "id": "A2gmQWH87ShG",
        "outputId": "79459f80-1717-46d6-9647-6daedf3e07d1"
      },
      "execution_count": 8,
      "outputs": [
        {
          "output_type": "execute_result",
          "data": {
            "text/plain": [
              "    Rank                                             Major Degree Type  \\\n",
              "0      1                             Petroleum Engineering   Bachelors   \n",
              "1      2      Operations Research & Industrial Engineering   Bachelors   \n",
              "2      3  Electrical Engineering & Computer Science (EECS)   Bachelors   \n",
              "3      4                                Interaction Design   Bachelors   \n",
              "4      5                                 Public Accounting   Bachelors   \n",
              "..   ...                                               ...         ...   \n",
              "822  823                                 Outdoor Education   Bachelors   \n",
              "823  824                         Early Childhood Education   Bachelors   \n",
              "824  825                                     Mental Health   Bachelors   \n",
              "825  826                                 Medical Assisting   Bachelors   \n",
              "826  827                                     Metalsmithing   Bachelors   \n",
              "\n",
              "    Early Career Pay Mid-Career Pay % High Meaning  \n",
              "0             93_200        187_300             67  \n",
              "1             84_800        170_400             28  \n",
              "2            108_500        159_300             46  \n",
              "3             68_300        155_800             55  \n",
              "4             59_800        147_700             47  \n",
              "..               ...            ...            ...  \n",
              "822           37_400         46_300             52  \n",
              "823           36_100         45_400             78  \n",
              "824           36_900         45_000              -  \n",
              "825           36_000         44_800              -  \n",
              "826           40_000         40_300             33  \n",
              "\n",
              "[827 rows x 6 columns]"
            ],
            "text/html": [
              "\n",
              "\n",
              "  <div id=\"df-70291edb-2fe2-4269-a41b-d1a2bc5ed295\">\n",
              "    <div class=\"colab-df-container\">\n",
              "      <div>\n",
              "<style scoped>\n",
              "    .dataframe tbody tr th:only-of-type {\n",
              "        vertical-align: middle;\n",
              "    }\n",
              "\n",
              "    .dataframe tbody tr th {\n",
              "        vertical-align: top;\n",
              "    }\n",
              "\n",
              "    .dataframe thead th {\n",
              "        text-align: right;\n",
              "    }\n",
              "</style>\n",
              "<table border=\"1\" class=\"dataframe\">\n",
              "  <thead>\n",
              "    <tr style=\"text-align: right;\">\n",
              "      <th></th>\n",
              "      <th>Rank</th>\n",
              "      <th>Major</th>\n",
              "      <th>Degree Type</th>\n",
              "      <th>Early Career Pay</th>\n",
              "      <th>Mid-Career Pay</th>\n",
              "      <th>% High Meaning</th>\n",
              "    </tr>\n",
              "  </thead>\n",
              "  <tbody>\n",
              "    <tr>\n",
              "      <th>0</th>\n",
              "      <td>1</td>\n",
              "      <td>Petroleum Engineering</td>\n",
              "      <td>Bachelors</td>\n",
              "      <td>93_200</td>\n",
              "      <td>187_300</td>\n",
              "      <td>67</td>\n",
              "    </tr>\n",
              "    <tr>\n",
              "      <th>1</th>\n",
              "      <td>2</td>\n",
              "      <td>Operations Research &amp; Industrial Engineering</td>\n",
              "      <td>Bachelors</td>\n",
              "      <td>84_800</td>\n",
              "      <td>170_400</td>\n",
              "      <td>28</td>\n",
              "    </tr>\n",
              "    <tr>\n",
              "      <th>2</th>\n",
              "      <td>3</td>\n",
              "      <td>Electrical Engineering &amp; Computer Science (EECS)</td>\n",
              "      <td>Bachelors</td>\n",
              "      <td>108_500</td>\n",
              "      <td>159_300</td>\n",
              "      <td>46</td>\n",
              "    </tr>\n",
              "    <tr>\n",
              "      <th>3</th>\n",
              "      <td>4</td>\n",
              "      <td>Interaction Design</td>\n",
              "      <td>Bachelors</td>\n",
              "      <td>68_300</td>\n",
              "      <td>155_800</td>\n",
              "      <td>55</td>\n",
              "    </tr>\n",
              "    <tr>\n",
              "      <th>4</th>\n",
              "      <td>5</td>\n",
              "      <td>Public Accounting</td>\n",
              "      <td>Bachelors</td>\n",
              "      <td>59_800</td>\n",
              "      <td>147_700</td>\n",
              "      <td>47</td>\n",
              "    </tr>\n",
              "    <tr>\n",
              "      <th>...</th>\n",
              "      <td>...</td>\n",
              "      <td>...</td>\n",
              "      <td>...</td>\n",
              "      <td>...</td>\n",
              "      <td>...</td>\n",
              "      <td>...</td>\n",
              "    </tr>\n",
              "    <tr>\n",
              "      <th>822</th>\n",
              "      <td>823</td>\n",
              "      <td>Outdoor Education</td>\n",
              "      <td>Bachelors</td>\n",
              "      <td>37_400</td>\n",
              "      <td>46_300</td>\n",
              "      <td>52</td>\n",
              "    </tr>\n",
              "    <tr>\n",
              "      <th>823</th>\n",
              "      <td>824</td>\n",
              "      <td>Early Childhood Education</td>\n",
              "      <td>Bachelors</td>\n",
              "      <td>36_100</td>\n",
              "      <td>45_400</td>\n",
              "      <td>78</td>\n",
              "    </tr>\n",
              "    <tr>\n",
              "      <th>824</th>\n",
              "      <td>825</td>\n",
              "      <td>Mental Health</td>\n",
              "      <td>Bachelors</td>\n",
              "      <td>36_900</td>\n",
              "      <td>45_000</td>\n",
              "      <td>-</td>\n",
              "    </tr>\n",
              "    <tr>\n",
              "      <th>825</th>\n",
              "      <td>826</td>\n",
              "      <td>Medical Assisting</td>\n",
              "      <td>Bachelors</td>\n",
              "      <td>36_000</td>\n",
              "      <td>44_800</td>\n",
              "      <td>-</td>\n",
              "    </tr>\n",
              "    <tr>\n",
              "      <th>826</th>\n",
              "      <td>827</td>\n",
              "      <td>Metalsmithing</td>\n",
              "      <td>Bachelors</td>\n",
              "      <td>40_000</td>\n",
              "      <td>40_300</td>\n",
              "      <td>33</td>\n",
              "    </tr>\n",
              "  </tbody>\n",
              "</table>\n",
              "<p>827 rows × 6 columns</p>\n",
              "</div>\n",
              "      <button class=\"colab-df-convert\" onclick=\"convertToInteractive('df-70291edb-2fe2-4269-a41b-d1a2bc5ed295')\"\n",
              "              title=\"Convert this dataframe to an interactive table.\"\n",
              "              style=\"display:none;\">\n",
              "\n",
              "  <svg xmlns=\"http://www.w3.org/2000/svg\" height=\"24px\"viewBox=\"0 0 24 24\"\n",
              "       width=\"24px\">\n",
              "    <path d=\"M0 0h24v24H0V0z\" fill=\"none\"/>\n",
              "    <path d=\"M18.56 5.44l.94 2.06.94-2.06 2.06-.94-2.06-.94-.94-2.06-.94 2.06-2.06.94zm-11 1L8.5 8.5l.94-2.06 2.06-.94-2.06-.94L8.5 2.5l-.94 2.06-2.06.94zm10 10l.94 2.06.94-2.06 2.06-.94-2.06-.94-.94-2.06-.94 2.06-2.06.94z\"/><path d=\"M17.41 7.96l-1.37-1.37c-.4-.4-.92-.59-1.43-.59-.52 0-1.04.2-1.43.59L10.3 9.45l-7.72 7.72c-.78.78-.78 2.05 0 2.83L4 21.41c.39.39.9.59 1.41.59.51 0 1.02-.2 1.41-.59l7.78-7.78 2.81-2.81c.8-.78.8-2.07 0-2.86zM5.41 20L4 18.59l7.72-7.72 1.47 1.35L5.41 20z\"/>\n",
              "  </svg>\n",
              "      </button>\n",
              "\n",
              "\n",
              "\n",
              "    <div id=\"df-149bf8ec-8088-420d-9b28-d36ea541896f\">\n",
              "      <button class=\"colab-df-quickchart\" onclick=\"quickchart('df-149bf8ec-8088-420d-9b28-d36ea541896f')\"\n",
              "              title=\"Suggest charts.\"\n",
              "              style=\"display:none;\">\n",
              "\n",
              "<svg xmlns=\"http://www.w3.org/2000/svg\" height=\"24px\"viewBox=\"0 0 24 24\"\n",
              "     width=\"24px\">\n",
              "    <g>\n",
              "        <path d=\"M19 3H5c-1.1 0-2 .9-2 2v14c0 1.1.9 2 2 2h14c1.1 0 2-.9 2-2V5c0-1.1-.9-2-2-2zM9 17H7v-7h2v7zm4 0h-2V7h2v10zm4 0h-2v-4h2v4z\"/>\n",
              "    </g>\n",
              "</svg>\n",
              "      </button>\n",
              "    </div>\n",
              "\n",
              "<style>\n",
              "  .colab-df-quickchart {\n",
              "    background-color: #E8F0FE;\n",
              "    border: none;\n",
              "    border-radius: 50%;\n",
              "    cursor: pointer;\n",
              "    display: none;\n",
              "    fill: #1967D2;\n",
              "    height: 32px;\n",
              "    padding: 0 0 0 0;\n",
              "    width: 32px;\n",
              "  }\n",
              "\n",
              "  .colab-df-quickchart:hover {\n",
              "    background-color: #E2EBFA;\n",
              "    box-shadow: 0px 1px 2px rgba(60, 64, 67, 0.3), 0px 1px 3px 1px rgba(60, 64, 67, 0.15);\n",
              "    fill: #174EA6;\n",
              "  }\n",
              "\n",
              "  [theme=dark] .colab-df-quickchart {\n",
              "    background-color: #3B4455;\n",
              "    fill: #D2E3FC;\n",
              "  }\n",
              "\n",
              "  [theme=dark] .colab-df-quickchart:hover {\n",
              "    background-color: #434B5C;\n",
              "    box-shadow: 0px 1px 3px 1px rgba(0, 0, 0, 0.15);\n",
              "    filter: drop-shadow(0px 1px 2px rgba(0, 0, 0, 0.3));\n",
              "    fill: #FFFFFF;\n",
              "  }\n",
              "</style>\n",
              "\n",
              "    <script>\n",
              "      async function quickchart(key) {\n",
              "        const containerElement = document.querySelector('#' + key);\n",
              "        const charts = await google.colab.kernel.invokeFunction(\n",
              "            'suggestCharts', [key], {});\n",
              "      }\n",
              "    </script>\n",
              "\n",
              "      <script>\n",
              "\n",
              "function displayQuickchartButton(domScope) {\n",
              "  let quickchartButtonEl =\n",
              "    domScope.querySelector('#df-149bf8ec-8088-420d-9b28-d36ea541896f button.colab-df-quickchart');\n",
              "  quickchartButtonEl.style.display =\n",
              "    google.colab.kernel.accessAllowed ? 'block' : 'none';\n",
              "}\n",
              "\n",
              "        displayQuickchartButton(document);\n",
              "      </script>\n",
              "      <style>\n",
              "    .colab-df-container {\n",
              "      display:flex;\n",
              "      flex-wrap:wrap;\n",
              "      gap: 12px;\n",
              "    }\n",
              "\n",
              "    .colab-df-convert {\n",
              "      background-color: #E8F0FE;\n",
              "      border: none;\n",
              "      border-radius: 50%;\n",
              "      cursor: pointer;\n",
              "      display: none;\n",
              "      fill: #1967D2;\n",
              "      height: 32px;\n",
              "      padding: 0 0 0 0;\n",
              "      width: 32px;\n",
              "    }\n",
              "\n",
              "    .colab-df-convert:hover {\n",
              "      background-color: #E2EBFA;\n",
              "      box-shadow: 0px 1px 2px rgba(60, 64, 67, 0.3), 0px 1px 3px 1px rgba(60, 64, 67, 0.15);\n",
              "      fill: #174EA6;\n",
              "    }\n",
              "\n",
              "    [theme=dark] .colab-df-convert {\n",
              "      background-color: #3B4455;\n",
              "      fill: #D2E3FC;\n",
              "    }\n",
              "\n",
              "    [theme=dark] .colab-df-convert:hover {\n",
              "      background-color: #434B5C;\n",
              "      box-shadow: 0px 1px 3px 1px rgba(0, 0, 0, 0.15);\n",
              "      filter: drop-shadow(0px 1px 2px rgba(0, 0, 0, 0.3));\n",
              "      fill: #FFFFFF;\n",
              "    }\n",
              "  </style>\n",
              "\n",
              "      <script>\n",
              "        const buttonEl =\n",
              "          document.querySelector('#df-70291edb-2fe2-4269-a41b-d1a2bc5ed295 button.colab-df-convert');\n",
              "        buttonEl.style.display =\n",
              "          google.colab.kernel.accessAllowed ? 'block' : 'none';\n",
              "\n",
              "        async function convertToInteractive(key) {\n",
              "          const element = document.querySelector('#df-70291edb-2fe2-4269-a41b-d1a2bc5ed295');\n",
              "          const dataTable =\n",
              "            await google.colab.kernel.invokeFunction('convertToInteractive',\n",
              "                                                     [key], {});\n",
              "          if (!dataTable) return;\n",
              "\n",
              "          const docLinkHtml = 'Like what you see? Visit the ' +\n",
              "            '<a target=\"_blank\" href=https://colab.research.google.com/notebooks/data_table.ipynb>data table notebook</a>'\n",
              "            + ' to learn more about interactive tables.';\n",
              "          element.innerHTML = '';\n",
              "          dataTable['output_type'] = 'display_data';\n",
              "          await google.colab.output.renderOutput(dataTable, element);\n",
              "          const docLink = document.createElement('div');\n",
              "          docLink.innerHTML = docLinkHtml;\n",
              "          element.appendChild(docLink);\n",
              "        }\n",
              "      </script>\n",
              "    </div>\n",
              "  </div>\n"
            ]
          },
          "metadata": {},
          "execution_count": 8
        }
      ]
    },
    {
      "cell_type": "code",
      "source": [
        "combined_df.head()"
      ],
      "metadata": {
        "colab": {
          "base_uri": "https://localhost:8080/",
          "height": 206
        },
        "id": "xD_Gxapv7XNw",
        "outputId": "44ee1053-1598-41f2-9844-9734090a2188"
      },
      "execution_count": 9,
      "outputs": [
        {
          "output_type": "execute_result",
          "data": {
            "text/plain": [
              "  Rank                                             Major Degree Type  \\\n",
              "0    1                             Petroleum Engineering   Bachelors   \n",
              "1    2      Operations Research & Industrial Engineering   Bachelors   \n",
              "2    3  Electrical Engineering & Computer Science (EECS)   Bachelors   \n",
              "3    4                                Interaction Design   Bachelors   \n",
              "4    5                                 Public Accounting   Bachelors   \n",
              "\n",
              "  Early Career Pay Mid-Career Pay % High Meaning  \n",
              "0           93_200        187_300             67  \n",
              "1           84_800        170_400             28  \n",
              "2          108_500        159_300             46  \n",
              "3           68_300        155_800             55  \n",
              "4           59_800        147_700             47  "
            ],
            "text/html": [
              "\n",
              "\n",
              "  <div id=\"df-091bf92f-0713-4df5-9f18-b78687629f4b\">\n",
              "    <div class=\"colab-df-container\">\n",
              "      <div>\n",
              "<style scoped>\n",
              "    .dataframe tbody tr th:only-of-type {\n",
              "        vertical-align: middle;\n",
              "    }\n",
              "\n",
              "    .dataframe tbody tr th {\n",
              "        vertical-align: top;\n",
              "    }\n",
              "\n",
              "    .dataframe thead th {\n",
              "        text-align: right;\n",
              "    }\n",
              "</style>\n",
              "<table border=\"1\" class=\"dataframe\">\n",
              "  <thead>\n",
              "    <tr style=\"text-align: right;\">\n",
              "      <th></th>\n",
              "      <th>Rank</th>\n",
              "      <th>Major</th>\n",
              "      <th>Degree Type</th>\n",
              "      <th>Early Career Pay</th>\n",
              "      <th>Mid-Career Pay</th>\n",
              "      <th>% High Meaning</th>\n",
              "    </tr>\n",
              "  </thead>\n",
              "  <tbody>\n",
              "    <tr>\n",
              "      <th>0</th>\n",
              "      <td>1</td>\n",
              "      <td>Petroleum Engineering</td>\n",
              "      <td>Bachelors</td>\n",
              "      <td>93_200</td>\n",
              "      <td>187_300</td>\n",
              "      <td>67</td>\n",
              "    </tr>\n",
              "    <tr>\n",
              "      <th>1</th>\n",
              "      <td>2</td>\n",
              "      <td>Operations Research &amp; Industrial Engineering</td>\n",
              "      <td>Bachelors</td>\n",
              "      <td>84_800</td>\n",
              "      <td>170_400</td>\n",
              "      <td>28</td>\n",
              "    </tr>\n",
              "    <tr>\n",
              "      <th>2</th>\n",
              "      <td>3</td>\n",
              "      <td>Electrical Engineering &amp; Computer Science (EECS)</td>\n",
              "      <td>Bachelors</td>\n",
              "      <td>108_500</td>\n",
              "      <td>159_300</td>\n",
              "      <td>46</td>\n",
              "    </tr>\n",
              "    <tr>\n",
              "      <th>3</th>\n",
              "      <td>4</td>\n",
              "      <td>Interaction Design</td>\n",
              "      <td>Bachelors</td>\n",
              "      <td>68_300</td>\n",
              "      <td>155_800</td>\n",
              "      <td>55</td>\n",
              "    </tr>\n",
              "    <tr>\n",
              "      <th>4</th>\n",
              "      <td>5</td>\n",
              "      <td>Public Accounting</td>\n",
              "      <td>Bachelors</td>\n",
              "      <td>59_800</td>\n",
              "      <td>147_700</td>\n",
              "      <td>47</td>\n",
              "    </tr>\n",
              "  </tbody>\n",
              "</table>\n",
              "</div>\n",
              "      <button class=\"colab-df-convert\" onclick=\"convertToInteractive('df-091bf92f-0713-4df5-9f18-b78687629f4b')\"\n",
              "              title=\"Convert this dataframe to an interactive table.\"\n",
              "              style=\"display:none;\">\n",
              "\n",
              "  <svg xmlns=\"http://www.w3.org/2000/svg\" height=\"24px\"viewBox=\"0 0 24 24\"\n",
              "       width=\"24px\">\n",
              "    <path d=\"M0 0h24v24H0V0z\" fill=\"none\"/>\n",
              "    <path d=\"M18.56 5.44l.94 2.06.94-2.06 2.06-.94-2.06-.94-.94-2.06-.94 2.06-2.06.94zm-11 1L8.5 8.5l.94-2.06 2.06-.94-2.06-.94L8.5 2.5l-.94 2.06-2.06.94zm10 10l.94 2.06.94-2.06 2.06-.94-2.06-.94-.94-2.06-.94 2.06-2.06.94z\"/><path d=\"M17.41 7.96l-1.37-1.37c-.4-.4-.92-.59-1.43-.59-.52 0-1.04.2-1.43.59L10.3 9.45l-7.72 7.72c-.78.78-.78 2.05 0 2.83L4 21.41c.39.39.9.59 1.41.59.51 0 1.02-.2 1.41-.59l7.78-7.78 2.81-2.81c.8-.78.8-2.07 0-2.86zM5.41 20L4 18.59l7.72-7.72 1.47 1.35L5.41 20z\"/>\n",
              "  </svg>\n",
              "      </button>\n",
              "\n",
              "\n",
              "\n",
              "    <div id=\"df-4c0c6c2d-9916-4759-9648-1e46a2433b31\">\n",
              "      <button class=\"colab-df-quickchart\" onclick=\"quickchart('df-4c0c6c2d-9916-4759-9648-1e46a2433b31')\"\n",
              "              title=\"Suggest charts.\"\n",
              "              style=\"display:none;\">\n",
              "\n",
              "<svg xmlns=\"http://www.w3.org/2000/svg\" height=\"24px\"viewBox=\"0 0 24 24\"\n",
              "     width=\"24px\">\n",
              "    <g>\n",
              "        <path d=\"M19 3H5c-1.1 0-2 .9-2 2v14c0 1.1.9 2 2 2h14c1.1 0 2-.9 2-2V5c0-1.1-.9-2-2-2zM9 17H7v-7h2v7zm4 0h-2V7h2v10zm4 0h-2v-4h2v4z\"/>\n",
              "    </g>\n",
              "</svg>\n",
              "      </button>\n",
              "    </div>\n",
              "\n",
              "<style>\n",
              "  .colab-df-quickchart {\n",
              "    background-color: #E8F0FE;\n",
              "    border: none;\n",
              "    border-radius: 50%;\n",
              "    cursor: pointer;\n",
              "    display: none;\n",
              "    fill: #1967D2;\n",
              "    height: 32px;\n",
              "    padding: 0 0 0 0;\n",
              "    width: 32px;\n",
              "  }\n",
              "\n",
              "  .colab-df-quickchart:hover {\n",
              "    background-color: #E2EBFA;\n",
              "    box-shadow: 0px 1px 2px rgba(60, 64, 67, 0.3), 0px 1px 3px 1px rgba(60, 64, 67, 0.15);\n",
              "    fill: #174EA6;\n",
              "  }\n",
              "\n",
              "  [theme=dark] .colab-df-quickchart {\n",
              "    background-color: #3B4455;\n",
              "    fill: #D2E3FC;\n",
              "  }\n",
              "\n",
              "  [theme=dark] .colab-df-quickchart:hover {\n",
              "    background-color: #434B5C;\n",
              "    box-shadow: 0px 1px 3px 1px rgba(0, 0, 0, 0.15);\n",
              "    filter: drop-shadow(0px 1px 2px rgba(0, 0, 0, 0.3));\n",
              "    fill: #FFFFFF;\n",
              "  }\n",
              "</style>\n",
              "\n",
              "    <script>\n",
              "      async function quickchart(key) {\n",
              "        const containerElement = document.querySelector('#' + key);\n",
              "        const charts = await google.colab.kernel.invokeFunction(\n",
              "            'suggestCharts', [key], {});\n",
              "      }\n",
              "    </script>\n",
              "\n",
              "      <script>\n",
              "\n",
              "function displayQuickchartButton(domScope) {\n",
              "  let quickchartButtonEl =\n",
              "    domScope.querySelector('#df-4c0c6c2d-9916-4759-9648-1e46a2433b31 button.colab-df-quickchart');\n",
              "  quickchartButtonEl.style.display =\n",
              "    google.colab.kernel.accessAllowed ? 'block' : 'none';\n",
              "}\n",
              "\n",
              "        displayQuickchartButton(document);\n",
              "      </script>\n",
              "      <style>\n",
              "    .colab-df-container {\n",
              "      display:flex;\n",
              "      flex-wrap:wrap;\n",
              "      gap: 12px;\n",
              "    }\n",
              "\n",
              "    .colab-df-convert {\n",
              "      background-color: #E8F0FE;\n",
              "      border: none;\n",
              "      border-radius: 50%;\n",
              "      cursor: pointer;\n",
              "      display: none;\n",
              "      fill: #1967D2;\n",
              "      height: 32px;\n",
              "      padding: 0 0 0 0;\n",
              "      width: 32px;\n",
              "    }\n",
              "\n",
              "    .colab-df-convert:hover {\n",
              "      background-color: #E2EBFA;\n",
              "      box-shadow: 0px 1px 2px rgba(60, 64, 67, 0.3), 0px 1px 3px 1px rgba(60, 64, 67, 0.15);\n",
              "      fill: #174EA6;\n",
              "    }\n",
              "\n",
              "    [theme=dark] .colab-df-convert {\n",
              "      background-color: #3B4455;\n",
              "      fill: #D2E3FC;\n",
              "    }\n",
              "\n",
              "    [theme=dark] .colab-df-convert:hover {\n",
              "      background-color: #434B5C;\n",
              "      box-shadow: 0px 1px 3px 1px rgba(0, 0, 0, 0.15);\n",
              "      filter: drop-shadow(0px 1px 2px rgba(0, 0, 0, 0.3));\n",
              "      fill: #FFFFFF;\n",
              "    }\n",
              "  </style>\n",
              "\n",
              "      <script>\n",
              "        const buttonEl =\n",
              "          document.querySelector('#df-091bf92f-0713-4df5-9f18-b78687629f4b button.colab-df-convert');\n",
              "        buttonEl.style.display =\n",
              "          google.colab.kernel.accessAllowed ? 'block' : 'none';\n",
              "\n",
              "        async function convertToInteractive(key) {\n",
              "          const element = document.querySelector('#df-091bf92f-0713-4df5-9f18-b78687629f4b');\n",
              "          const dataTable =\n",
              "            await google.colab.kernel.invokeFunction('convertToInteractive',\n",
              "                                                     [key], {});\n",
              "          if (!dataTable) return;\n",
              "\n",
              "          const docLinkHtml = 'Like what you see? Visit the ' +\n",
              "            '<a target=\"_blank\" href=https://colab.research.google.com/notebooks/data_table.ipynb>data table notebook</a>'\n",
              "            + ' to learn more about interactive tables.';\n",
              "          element.innerHTML = '';\n",
              "          dataTable['output_type'] = 'display_data';\n",
              "          await google.colab.output.renderOutput(dataTable, element);\n",
              "          const docLink = document.createElement('div');\n",
              "          docLink.innerHTML = docLinkHtml;\n",
              "          element.appendChild(docLink);\n",
              "        }\n",
              "      </script>\n",
              "    </div>\n",
              "  </div>\n"
            ]
          },
          "metadata": {},
          "execution_count": 9
        }
      ]
    },
    {
      "cell_type": "code",
      "source": [
        "import numpy as np\n",
        "combined_df = combined_df.replace('-', np.nan)\n",
        "combined_df.to_csv('my_dataframe.csv', index=False, na_rep='NULL')"
      ],
      "metadata": {
        "id": "7tW9b2z29KOL"
      },
      "execution_count": 10,
      "outputs": []
    },
    {
      "cell_type": "code",
      "source": [
        "combined_df.isna().sum()"
      ],
      "metadata": {
        "colab": {
          "base_uri": "https://localhost:8080/"
        },
        "id": "xRsYFwUm-aJ6",
        "outputId": "e19c9b74-d98c-4763-dc55-3f6350abb339"
      },
      "execution_count": 11,
      "outputs": [
        {
          "output_type": "execute_result",
          "data": {
            "text/plain": [
              "Rank                 0\n",
              "Major                0\n",
              "Degree Type          0\n",
              "Early Career Pay     0\n",
              "Mid-Career Pay       0\n",
              "% High Meaning      64\n",
              "dtype: int64"
            ]
          },
          "metadata": {},
          "execution_count": 11
        }
      ]
    },
    {
      "cell_type": "code",
      "source": [
        "from sklearn.experimental import enable_iterative_imputer\n",
        "from sklearn.impute import IterativeImputer\n",
        "\n",
        "imputer = IterativeImputer(max_iter=10, random_state=0)\n",
        "\n",
        "for name in combined_df.columns:\n",
        "  if combined_df[name].isna().sum() > 0:\n",
        "    combined_df[name] = imputer.fit_transform(combined_df[[name]])"
      ],
      "metadata": {
        "id": "hlbZdJf3-hgk"
      },
      "execution_count": 12,
      "outputs": []
    },
    {
      "cell_type": "code",
      "source": [
        "combined_df.isna().sum()"
      ],
      "metadata": {
        "colab": {
          "base_uri": "https://localhost:8080/"
        },
        "id": "ff64uehu-wwu",
        "outputId": "77592718-9cce-412e-e385-948fc8541787"
      },
      "execution_count": 13,
      "outputs": [
        {
          "output_type": "execute_result",
          "data": {
            "text/plain": [
              "Rank                0\n",
              "Major               0\n",
              "Degree Type         0\n",
              "Early Career Pay    0\n",
              "Mid-Career Pay      0\n",
              "% High Meaning      0\n",
              "dtype: int64"
            ]
          },
          "metadata": {},
          "execution_count": 13
        }
      ]
    },
    {
      "cell_type": "code",
      "source": [
        "combined_df[combined_df.columns[0]] = combined_df[combined_df.columns[0]].astype(int)\n",
        "combined_df[combined_df.columns[3]] = combined_df[combined_df.columns[3]].astype(int)\n",
        "combined_df[combined_df.columns[4]] = combined_df[combined_df.columns[4]].astype(int)\n",
        "combined_df[combined_df.columns[5]] = combined_df[combined_df.columns[5]].astype(int)"
      ],
      "metadata": {
        "id": "NWwyuwDG-7w1"
      },
      "execution_count": 14,
      "outputs": []
    },
    {
      "cell_type": "code",
      "source": [
        "combined_df['Early Career Pay'].idxmax()"
      ],
      "metadata": {
        "colab": {
          "base_uri": "https://localhost:8080/"
        },
        "id": "qNFh4kHO_RoR",
        "outputId": "f6ab2f3a-db9f-4f99-83a6-12a851cb4d49"
      },
      "execution_count": 15,
      "outputs": [
        {
          "output_type": "execute_result",
          "data": {
            "text/plain": [
              "2"
            ]
          },
          "metadata": {},
          "execution_count": 15
        }
      ]
    },
    {
      "cell_type": "code",
      "source": [
        "combined_df.loc[2]"
      ],
      "metadata": {
        "colab": {
          "base_uri": "https://localhost:8080/"
        },
        "id": "qzZa08GO_tUx",
        "outputId": "8fb0fd27-c8f7-4a83-e1bb-a0eb83647ee2"
      },
      "execution_count": 16,
      "outputs": [
        {
          "output_type": "execute_result",
          "data": {
            "text/plain": [
              "Rank                                                               3\n",
              "Major               Electrical Engineering & Computer Science (EECS)\n",
              "Degree Type                                                Bachelors\n",
              "Early Career Pay                                              108500\n",
              "Mid-Career Pay                                                159300\n",
              "% High Meaning                                                    46\n",
              "Name: 2, dtype: object"
            ]
          },
          "metadata": {},
          "execution_count": 16
        }
      ]
    },
    {
      "cell_type": "code",
      "source": [
        "combined_df['Early Career Pay'].idxmin()"
      ],
      "metadata": {
        "colab": {
          "base_uri": "https://localhost:8080/"
        },
        "id": "w1VaaDbF_1kF",
        "outputId": "1d7f2518-95bc-40ba-f575-8611d5d411f8"
      },
      "execution_count": 17,
      "outputs": [
        {
          "output_type": "execute_result",
          "data": {
            "text/plain": [
              "804"
            ]
          },
          "metadata": {},
          "execution_count": 17
        }
      ]
    },
    {
      "cell_type": "code",
      "source": [
        "combined_df.loc[804]"
      ],
      "metadata": {
        "colab": {
          "base_uri": "https://localhost:8080/"
        },
        "id": "pt40VxVNCZXf",
        "outputId": "87541e8b-7373-4f97-c478-d3f22092135f"
      },
      "execution_count": 18,
      "outputs": [
        {
          "output_type": "execute_result",
          "data": {
            "text/plain": [
              "Rank                          805\n",
              "Major               Voice & Opera\n",
              "Degree Type             Bachelors\n",
              "Early Career Pay            34500\n",
              "Mid-Career Pay              53300\n",
              "% High Meaning                 57\n",
              "Name: 804, dtype: object"
            ]
          },
          "metadata": {},
          "execution_count": 18
        }
      ]
    },
    {
      "cell_type": "code",
      "source": [
        "combined_df['Mid-Career Pay'].idxmax()"
      ],
      "metadata": {
        "colab": {
          "base_uri": "https://localhost:8080/"
        },
        "id": "zgAFSEF7CqN9",
        "outputId": "554d45a3-4dc1-459c-91fe-f99d69c52557"
      },
      "execution_count": 19,
      "outputs": [
        {
          "output_type": "execute_result",
          "data": {
            "text/plain": [
              "0"
            ]
          },
          "metadata": {},
          "execution_count": 19
        }
      ]
    },
    {
      "cell_type": "code",
      "source": [
        "combined_df.loc[0]"
      ],
      "metadata": {
        "colab": {
          "base_uri": "https://localhost:8080/"
        },
        "id": "nozLX6cfC-TQ",
        "outputId": "11b23579-d184-4296-ee33-79f70d806702"
      },
      "execution_count": 20,
      "outputs": [
        {
          "output_type": "execute_result",
          "data": {
            "text/plain": [
              "Rank                                    1\n",
              "Major               Petroleum Engineering\n",
              "Degree Type                     Bachelors\n",
              "Early Career Pay                    93200\n",
              "Mid-Career Pay                     187300\n",
              "% High Meaning                         67\n",
              "Name: 0, dtype: object"
            ]
          },
          "metadata": {},
          "execution_count": 20
        }
      ]
    },
    {
      "cell_type": "code",
      "source": [
        "combined_df['Mid-Career Pay'].idxmin()"
      ],
      "metadata": {
        "colab": {
          "base_uri": "https://localhost:8080/"
        },
        "id": "oaH69RI0DEav",
        "outputId": "cd3d5dfd-7756-4c60-c057-855c44be7e3c"
      },
      "execution_count": 21,
      "outputs": [
        {
          "output_type": "execute_result",
          "data": {
            "text/plain": [
              "826"
            ]
          },
          "metadata": {},
          "execution_count": 21
        }
      ]
    },
    {
      "cell_type": "code",
      "source": [
        "combined_df.loc[826]"
      ],
      "metadata": {
        "colab": {
          "base_uri": "https://localhost:8080/"
        },
        "id": "kiW52EhxDX1z",
        "outputId": "2678427f-abe3-4a5b-9bca-64e8f5c87b94"
      },
      "execution_count": 22,
      "outputs": [
        {
          "output_type": "execute_result",
          "data": {
            "text/plain": [
              "Rank                          827\n",
              "Major               Metalsmithing\n",
              "Degree Type             Bachelors\n",
              "Early Career Pay            40000\n",
              "Mid-Career Pay              40300\n",
              "% High Meaning                 33\n",
              "Name: 826, dtype: object"
            ]
          },
          "metadata": {},
          "execution_count": 22
        }
      ]
    },
    {
      "cell_type": "code",
      "source": [],
      "metadata": {
        "id": "sUsX-7uwDhcT"
      },
      "execution_count": null,
      "outputs": []
    }
  ]
}